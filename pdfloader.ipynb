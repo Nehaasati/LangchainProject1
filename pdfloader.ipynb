{
 "cells": [
  {
   "cell_type": "code",
   "execution_count": 4,
   "id": "e3565add",
   "metadata": {},
   "outputs": [],
   "source": [
    "from langchain_community.document_loaders import PyPDFLoader\n",
    "from langchain.text_splitter import RecursiveCharacterTextSplitter\n",
    "from langchain.embeddings import OpenAIEmbeddings\n",
    "from langchain.vectorstores import FAISS"
   ]
  },
  {
   "cell_type": "code",
   "execution_count": 6,
   "id": "7b978dbe",
   "metadata": {},
   "outputs": [],
   "source": [
    "file_path = \"C:/Users/nehaa/LangchainProject1/attention_is_all_you_need.pdf\"\n",
    "loader = PyPDFLoader(file_path)"
   ]
  },
  {
   "cell_type": "code",
   "execution_count": 10,
   "id": "04c6267e",
   "metadata": {},
   "outputs": [
    {
     "name": "stderr",
     "output_type": "stream",
     "text": [
      "Ignoring wrong pointing object 16 0 (offset 0)\n",
      "Ignoring wrong pointing object 52 0 (offset 0)\n",
      "Ignoring wrong pointing object 96 0 (offset 0)\n",
      "Ignoring wrong pointing object 116 0 (offset 0)\n",
      "Ignoring wrong pointing object 1370 0 (offset 0)\n",
      "Ignoring wrong pointing object 1390 0 (offset 0)\n",
      "Ignoring wrong pointing object 2466 0 (offset 0)\n",
      "Ignoring wrong pointing object 2486 0 (offset 0)\n",
      "Ignoring wrong pointing object 3459 0 (offset 0)\n",
      "Ignoring wrong pointing object 3479 0 (offset 0)\n",
      "Ignoring wrong pointing object 4469 0 (offset 0)\n",
      "Ignoring wrong pointing object 4489 0 (offset 0)\n"
     ]
    },
    {
     "data": {
      "text/plain": [
       "Document(metadata={'producer': 'macOS Version 11.2.3 (Build 20D91) Quartz PDFContext', 'creator': 'PyPDF', 'creationdate': \"D:20210525150205Z00'00'\", 'moddate': \"D:20210525150205Z00'00'\", 'source': 'C:/Users/nehaa/LangchainProject1/attention_is_all_you_need.pdf', 'total_pages': 15, 'page': 0, 'page_label': '1'}, page_content='Attention Is All You Need\\nAshish Vaswani⇤\\nGoogle Brain\\navaswani@google.com\\nNoam Shazeer⇤\\nGoogle Brain\\nnoam@google.com\\nNiki Parmar⇤\\nGoogle Research\\nnikip@google.com\\nJakob Uszkoreit⇤\\nGoogle Research\\nusz@google.com\\nLlion Jones⇤\\nGoogle Research\\nllion@google.com\\nAidan N. Gomez⇤†\\nUniversity of Toronto\\naidan@cs.toronto.edu\\nŁukasz Kaiser⇤\\nGoogle Brain\\nlukaszkaiser@google.com\\nIllia Polosukhin⇤‡\\nillia.polosukhin@gmail.com\\nAbstract\\nThe dominant sequence transduction models are based on complex recurrent or\\nconvolutional neural networks that include an encoder and a decoder. The best\\nperforming models also connect the encoder and decoder through an attention\\nmechanism. We propose a new simple network architecture, the Transformer,\\nbased solely on attention mechanisms, dispensing with recurrence and convolutions\\nentirely. Experiments on two machine translation tasks show these models to\\nbe superior in quality while being more parallelizable and requiring signiﬁcantly\\nless time to train. Our model achieves 28.4 BLEU on the WMT 2014 English-\\nto-German translation task, improving over the existing best results, including\\nensembles, by over 2 BLEU. On the WMT 2014 English-to-French translation task,\\nour model establishes a new single-model state-of-the-art BLEU score of 41.8 after\\ntraining for 3.5 days on eight GPUs, a small fraction of the training costs of the\\nbest models from the literature. We show that the Transformer generalizes well to\\nother tasks by applying it successfully to English constituency parsing both with\\nlarge and limited training data.\\n1 Introduction\\nRecurrent neural networks, long short-term memory [13] and gated recurrent [7] neural networks\\nin particular, have been ﬁrmly established as state of the art approaches in sequence modeling and\\n⇤Equal contribution. Listing order is random. Jakob proposed replacing RNNs with self-attention and started\\nthe effort to evaluate this idea. Ashish, with Illia, designed and implemented the ﬁrst Transformer models and\\nhas been crucially involved in every aspect of this work. Noam proposed scaled dot-product attention, multi-head\\nattention and the parameter-free position representation and became the other person involved in nearly every\\ndetail. Niki designed, implemented, tuned and evaluated countless model variants in our original codebase and\\ntensor2tensor. Llion also experimented with novel model variants, was responsible for our initial codebase, and\\nefﬁcient inference and visualizations. Lukasz and Aidan spent countless long days designing various parts of and\\nimplementing tensor2tensor, replacing our earlier codebase, greatly improving results and massively accelerating\\nour research.†Work performed while at Google Brain.‡Work performed while at Google Research.\\n31st Conference on Neural Information Processing Systems (NIPS 2017), Long Beach, CA, USA.\\narXiv:1706.03762v5  [cs.CL]  6 Dec 2017\\n\\n\\n\\n\\n\\n\\n\\n\\n\\n\\n\\n\\n\\n\\n\\n\\n\\n\\n\\n\\n\\n\\n\\n\\n\\n\\n\\n\\n\\n\\n\\n\\n\\n\\n\\n\\n\\n\\n\\n\\n\\n\\n\\n\\n\\n\\n\\n\\n\\n\\n\\n\\n\\n\\n\\n\\n\\n\\n\\nAIM\\nSOT A BLEU score for English to  •\\nFrench and English to German \\ntranslation')"
      ]
     },
     "execution_count": 10,
     "metadata": {},
     "output_type": "execute_result"
    }
   ],
   "source": [
    "docs = loader.load()\n",
    "docs[0]"
   ]
  },
  {
   "cell_type": "code",
   "execution_count": null,
   "id": "2a660ff5",
   "metadata": {},
   "outputs": [],
   "source": []
  }
 ],
 "metadata": {
  "kernelspec": {
   "display_name": "venv",
   "language": "python",
   "name": "python3"
  },
  "language_info": {
   "codemirror_mode": {
    "name": "ipython",
    "version": 3
   },
   "file_extension": ".py",
   "mimetype": "text/x-python",
   "name": "python",
   "nbconvert_exporter": "python",
   "pygments_lexer": "ipython3",
   "version": "3.11.4"
  }
 },
 "nbformat": 4,
 "nbformat_minor": 5
}
